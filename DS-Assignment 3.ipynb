{
 "cells": [
  {
   "cell_type": "markdown",
   "id": "0c2b3ba3",
   "metadata": {},
   "source": [
    "### Exercise 1\n",
    "Based on the lecture notes, create a singly linked list in Python called `MyList`. Add three nodes to an instance of `MyList` with values 5, 7, and 10. Then remove the last node (with value 10) from the list. After these operations, print `MyList`.\n",
    "\n",
    "### Exercise 2\n",
    "Based on the lecture notes, implement a method called `DLL_len` that returns the length of a doubly linked list. To test its functionality, follow these steps:\n",
    "\n",
    "* Create a doubly linked list class in Python called `DoublyLinkedList`.\n",
    "* Create an instance of `DoublyLinkedList`.\n",
    "* Add five nodes to this instance with values 5, 7, 13, 15, and 10.\n",
    "* Invoke the `DLL_len` method on the instance you just created.\n",
    "\n",
    "If your method works correctly, it should return 5."
   ]
  },
  {
   "cell_type": "code",
   "execution_count": 1,
   "id": "107cba57-8dff-4942-a364-e1646d88cd8b",
   "metadata": {},
   "outputs": [
    {
     "name": "stdout",
     "output_type": "stream",
     "text": [
      "Before removal: 5 -> 7 -> 10\n",
      "After removal: 5 -> 7\n"
     ]
    }
   ],
   "source": [
    "class Node:\n",
    "    def __init__(self, value):\n",
    "        self.value = value  # The value of the node\n",
    "        self.next = None  # Pointer to the next node in the list (default None)\n",
    "\n",
    "class MyList:\n",
    "    def __init__(self):\n",
    "        self.head = None  # Initialize the head of the list to be None\n",
    "\n",
    "    # Method to add a node at the end of the list\n",
    "    def add_node(self, value):\n",
    "        new_node = Node(value)\n",
    "        if not self.head:  # If the list is empty, the new node becomes the head\n",
    "            self.head = new_node\n",
    "        else:\n",
    "            current = self.head\n",
    "            while current.next:  # Traverse to the last node\n",
    "                current = current.next\n",
    "            current.next = new_node  # Add the new node at the end\n",
    "\n",
    "    # Method to remove the last node in the list\n",
    "    def remove_last_node(self):\n",
    "        if not self.head:  # If the list is empty, do nothing\n",
    "            return\n",
    "        if not self.head.next:  # If there's only one node, remove it\n",
    "            self.head = None\n",
    "            return\n",
    "        current = self.head\n",
    "        while current.next and current.next.next:  # Find the second-to-last node\n",
    "            current = current.next\n",
    "        current.next = None  # Remove the last node\n",
    "\n",
    "    # Method to print the entire list\n",
    "    def __str__(self):\n",
    "        values = []\n",
    "        current = self.head\n",
    "        while current:\n",
    "            values.append(str(current.value))\n",
    "            current = current.next\n",
    "        return ' -> '.join(values)\n",
    "\n",
    "# Creating an instance of MyList\n",
    "my_list = MyList()\n",
    "\n",
    "# Adding nodes with values 5, 7, and 10\n",
    "my_list.add_node(5)\n",
    "my_list.add_node(7)\n",
    "my_list.add_node(10)\n",
    "\n",
    "# Print the list before removal\n",
    "print(\"Before removal:\", my_list)\n",
    "\n",
    "# Removing the last node (value 10)\n",
    "my_list.remove_last_node()\n",
    "\n",
    "# Print the list after removal\n",
    "print(\"After removal:\", my_list)\n"
   ]
  },
  {
   "cell_type": "code",
   "execution_count": 2,
   "id": "bc76114b-0bfe-43b4-9d77-d52069e2ae90",
   "metadata": {},
   "outputs": [
    {
     "name": "stdout",
     "output_type": "stream",
     "text": [
      "5\n"
     ]
    }
   ],
   "source": [
    "class Node:\n",
    "    def __init__(self, value):\n",
    "        self.value = value  # The value of the node\n",
    "        self.next = None  # Pointer to the next node in the list (default None)\n",
    "        self.prev = None  # Pointer to the previous node in the list (default None)\n",
    "\n",
    "class DoublyLinkedList:\n",
    "    def __init__(self):\n",
    "        self.head = None  # Initialize the head of the list to be None\n",
    "        self.tail = None  # Initialize the tail of the list to be None\n",
    "\n",
    "    # Method to add a node at the end of the doubly linked list\n",
    "    def add_node(self, value):\n",
    "        new_node = Node(value)\n",
    "        if not self.head:  # If the list is empty, the new node becomes the head\n",
    "            self.head = new_node\n",
    "            self.tail = new_node\n",
    "        else:\n",
    "            # Add the new node at the end of the list\n",
    "            self.tail.next = new_node  # Set the next pointer of the last node\n",
    "            new_node.prev = self.tail  # Set the previous pointer of the new node\n",
    "            self.tail = new_node  # Update the tail to the new node\n",
    "\n",
    "    # Method to calculate and return the length of the doubly linked list\n",
    "    def DLL_len(self):\n",
    "        length = 0\n",
    "        current = self.head\n",
    "        while current:  # Traverse the list from head to tail\n",
    "            length += 1\n",
    "            current = current.next\n",
    "        return length\n",
    "\n",
    "# Testing the functionality\n",
    "dll = DoublyLinkedList()\n",
    "\n",
    "# Add five nodes with values 5, 7, 13, 15, and 10\n",
    "dll.add_node(5)\n",
    "dll.add_node(7)\n",
    "dll.add_node(13)\n",
    "dll.add_node(15)\n",
    "dll.add_node(10)\n",
    "\n",
    "# Invoke DLL_len to get the length of the list\n",
    "print(dll.DLL_len())  # Expected output: 5\n"
   ]
  },
  {
   "cell_type": "code",
   "execution_count": null,
   "id": "5d0fc761-ddd0-4c89-8cb4-9a3dbd4d0dfb",
   "metadata": {},
   "outputs": [],
   "source": []
  }
 ],
 "metadata": {
  "kernelspec": {
   "display_name": "Python 3 (ipykernel)",
   "language": "python",
   "name": "python3"
  },
  "language_info": {
   "codemirror_mode": {
    "name": "ipython",
    "version": 3
   },
   "file_extension": ".py",
   "mimetype": "text/x-python",
   "name": "python",
   "nbconvert_exporter": "python",
   "pygments_lexer": "ipython3",
   "version": "3.12.5"
  }
 },
 "nbformat": 4,
 "nbformat_minor": 5
}
